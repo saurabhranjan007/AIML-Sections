{
 "cells": [
  {
   "cell_type": "code",
   "execution_count": 63,
   "id": "0dadb81c-0993-49ba-a59b-95e60c8a5578",
   "metadata": {},
   "outputs": [],
   "source": [
    "import numpy as np"
   ]
  },
  {
   "cell_type": "markdown",
   "id": "eb133de4-cdab-41e5-8f6a-12952677612b",
   "metadata": {},
   "source": [
    "## Datatypes & Attributes"
   ]
  },
  {
   "cell_type": "markdown",
   "id": "72955298-d7fd-45b1-aebb-a270b55d49ef",
   "metadata": {},
   "source": [
    "### Numpy's main datatype is ndarray "
   ]
  },
  {
   "cell_type": "code",
   "execution_count": 64,
   "id": "aafcfb28-9a08-461c-9f84-63b18d307ee7",
   "metadata": {},
   "outputs": [
    {
     "data": {
      "text/plain": [
       "array([1, 2, 3])"
      ]
     },
     "execution_count": 64,
     "metadata": {},
     "output_type": "execute_result"
    }
   ],
   "source": [
    "a1 = np.array([1,2,3])\n",
    "a1"
   ]
  },
  {
   "cell_type": "code",
   "execution_count": 65,
   "id": "c638f294-3136-4630-90c2-8b86b0947617",
   "metadata": {},
   "outputs": [
    {
     "data": {
      "text/plain": [
       "numpy.ndarray"
      ]
     },
     "execution_count": 65,
     "metadata": {},
     "output_type": "execute_result"
    }
   ],
   "source": [
    "type(a1)"
   ]
  },
  {
   "cell_type": "code",
   "execution_count": 66,
   "id": "ffbd3275-0414-42b9-96ff-2df9ffbdacc6",
   "metadata": {},
   "outputs": [
    {
     "name": "stdout",
     "output_type": "stream",
     "text": [
      "<class 'type'>\n"
     ]
    }
   ],
   "source": [
    "print(type(list))"
   ]
  },
  {
   "cell_type": "code",
   "execution_count": 67,
   "id": "0a91a2d2-ff72-4d68-a2c6-8983bac4a839",
   "metadata": {},
   "outputs": [],
   "source": [
    "a2 = np.array([\n",
    "    [1,2,3],\n",
    "    [4,5,6], \n",
    "])"
   ]
  },
  {
   "cell_type": "code",
   "execution_count": 68,
   "id": "ca6cebe0-6f7a-498c-bef8-f9691a0250c4",
   "metadata": {},
   "outputs": [
    {
     "data": {
      "text/plain": [
       "array([[1, 2, 3],\n",
       "       [4, 5, 6]])"
      ]
     },
     "execution_count": 68,
     "metadata": {},
     "output_type": "execute_result"
    }
   ],
   "source": [
    "a2"
   ]
  },
  {
   "cell_type": "code",
   "execution_count": 69,
   "id": "ca63ec1b-eaa4-4aed-ba49-7091d0756a79",
   "metadata": {},
   "outputs": [],
   "source": [
    "a3 = np.array([\n",
    "    [\n",
    "        [1,2,3], \n",
    "        [4,5,6],\n",
    "        [7,8,9]\n",
    "    ],\n",
    "    [\n",
    "        [9,8,7], \n",
    "        [6,5,4],\n",
    "        [3,2,1]\n",
    "    ]\n",
    "])\n",
    "\n",
    "\n",
    "# a3 = np.array([[[1,2,3],\n",
    "#    [4,5,6], \n",
    "#    [7,8,9]],\n",
    "#   [[10,11,12],\n",
    "#    [13,14,15],\n",
    "#    [16,17,18]]])"
   ]
  },
  {
   "cell_type": "code",
   "execution_count": 70,
   "id": "45fb3f54-5d2e-4a6c-8e56-f7e7b9a6a2e4",
   "metadata": {},
   "outputs": [
    {
     "data": {
      "text/plain": [
       "array([[[1, 2, 3],\n",
       "        [4, 5, 6],\n",
       "        [7, 8, 9]],\n",
       "\n",
       "       [[9, 8, 7],\n",
       "        [6, 5, 4],\n",
       "        [3, 2, 1]]])"
      ]
     },
     "execution_count": 70,
     "metadata": {},
     "output_type": "execute_result"
    }
   ],
   "source": [
    "a3"
   ]
  },
  {
   "cell_type": "code",
   "execution_count": 71,
   "id": "550e5a5c-ee3d-46e9-8dae-a390019a14cc",
   "metadata": {},
   "outputs": [
    {
     "data": {
      "text/plain": [
       "(1, 2, 3)"
      ]
     },
     "execution_count": 71,
     "metadata": {},
     "output_type": "execute_result"
    }
   ],
   "source": [
    "a1.ndim, a2.ndim, a3.ndim"
   ]
  },
  {
   "cell_type": "code",
   "execution_count": 72,
   "id": "92d18100-b32b-42bf-a9f0-76b2fe95343a",
   "metadata": {},
   "outputs": [
    {
     "data": {
      "text/plain": [
       "(dtype('int64'), dtype('int64'), dtype('int64'))"
      ]
     },
     "execution_count": 72,
     "metadata": {},
     "output_type": "execute_result"
    }
   ],
   "source": [
    "a1.dtype, a2.dtype, a3.dtype"
   ]
  },
  {
   "cell_type": "code",
   "execution_count": 73,
   "id": "30e24993-713e-4ffd-9e52-82e161093ee8",
   "metadata": {},
   "outputs": [
    {
     "data": {
      "text/plain": [
       "(3, 6, 18)"
      ]
     },
     "execution_count": 73,
     "metadata": {},
     "output_type": "execute_result"
    }
   ],
   "source": [
    "a1.size, a2.size, a3.size"
   ]
  },
  {
   "cell_type": "code",
   "execution_count": 74,
   "id": "2bf6eb1e-3d16-4d2b-b0a4-83e966213592",
   "metadata": {},
   "outputs": [
    {
     "data": {
      "text/plain": [
       "(numpy.ndarray, numpy.ndarray, numpy.ndarray)"
      ]
     },
     "execution_count": 74,
     "metadata": {},
     "output_type": "execute_result"
    }
   ],
   "source": [
    "type(a1), type(a2), type(a3)"
   ]
  },
  {
   "cell_type": "code",
   "execution_count": 75,
   "id": "94ebf4cc-02a9-4dfb-8f5f-8a802ea13a7c",
   "metadata": {},
   "outputs": [],
   "source": [
    "import pandas as pd "
   ]
  },
  {
   "cell_type": "code",
   "execution_count": 76,
   "id": "25141134-210a-4989-adbc-e829e18146c1",
   "metadata": {},
   "outputs": [],
   "source": [
    "df1 = pd.DataFrame(a1)"
   ]
  },
  {
   "cell_type": "code",
   "execution_count": 77,
   "id": "3709facf-1ccc-4f83-aad9-b431fe37db98",
   "metadata": {},
   "outputs": [
    {
     "data": {
      "text/html": [
       "<div>\n",
       "<style scoped>\n",
       "    .dataframe tbody tr th:only-of-type {\n",
       "        vertical-align: middle;\n",
       "    }\n",
       "\n",
       "    .dataframe tbody tr th {\n",
       "        vertical-align: top;\n",
       "    }\n",
       "\n",
       "    .dataframe thead th {\n",
       "        text-align: right;\n",
       "    }\n",
       "</style>\n",
       "<table border=\"1\" class=\"dataframe\">\n",
       "  <thead>\n",
       "    <tr style=\"text-align: right;\">\n",
       "      <th></th>\n",
       "      <th>0</th>\n",
       "    </tr>\n",
       "  </thead>\n",
       "  <tbody>\n",
       "    <tr>\n",
       "      <th>0</th>\n",
       "      <td>1</td>\n",
       "    </tr>\n",
       "    <tr>\n",
       "      <th>1</th>\n",
       "      <td>2</td>\n",
       "    </tr>\n",
       "    <tr>\n",
       "      <th>2</th>\n",
       "      <td>3</td>\n",
       "    </tr>\n",
       "  </tbody>\n",
       "</table>\n",
       "</div>"
      ],
      "text/plain": [
       "   0\n",
       "0  1\n",
       "1  2\n",
       "2  3"
      ]
     },
     "execution_count": 77,
     "metadata": {},
     "output_type": "execute_result"
    }
   ],
   "source": [
    "df1"
   ]
  },
  {
   "cell_type": "code",
   "execution_count": 78,
   "id": "1400743a-cef4-4143-b19a-f2c639e915ab",
   "metadata": {},
   "outputs": [],
   "source": [
    "df2 = pd.DataFrame(a2)"
   ]
  },
  {
   "cell_type": "code",
   "execution_count": 79,
   "id": "289724a0-e66e-4db4-8586-085c73936932",
   "metadata": {},
   "outputs": [
    {
     "data": {
      "text/html": [
       "<div>\n",
       "<style scoped>\n",
       "    .dataframe tbody tr th:only-of-type {\n",
       "        vertical-align: middle;\n",
       "    }\n",
       "\n",
       "    .dataframe tbody tr th {\n",
       "        vertical-align: top;\n",
       "    }\n",
       "\n",
       "    .dataframe thead th {\n",
       "        text-align: right;\n",
       "    }\n",
       "</style>\n",
       "<table border=\"1\" class=\"dataframe\">\n",
       "  <thead>\n",
       "    <tr style=\"text-align: right;\">\n",
       "      <th></th>\n",
       "      <th>0</th>\n",
       "      <th>1</th>\n",
       "      <th>2</th>\n",
       "    </tr>\n",
       "  </thead>\n",
       "  <tbody>\n",
       "    <tr>\n",
       "      <th>0</th>\n",
       "      <td>1</td>\n",
       "      <td>2</td>\n",
       "      <td>3</td>\n",
       "    </tr>\n",
       "    <tr>\n",
       "      <th>1</th>\n",
       "      <td>4</td>\n",
       "      <td>5</td>\n",
       "      <td>6</td>\n",
       "    </tr>\n",
       "  </tbody>\n",
       "</table>\n",
       "</div>"
      ],
      "text/plain": [
       "   0  1  2\n",
       "0  1  2  3\n",
       "1  4  5  6"
      ]
     },
     "execution_count": 79,
     "metadata": {},
     "output_type": "execute_result"
    }
   ],
   "source": [
    "df2"
   ]
  },
  {
   "cell_type": "code",
   "execution_count": 80,
   "id": "7dabe3d2-8736-4ce6-b15e-8484ea0b30ad",
   "metadata": {},
   "outputs": [],
   "source": [
    "# df3 = pd.DataFrame(a3)"
   ]
  },
  {
   "cell_type": "markdown",
   "id": "0999c759-5563-4481-982f-a283fc0b1f5e",
   "metadata": {},
   "source": [
    "## 1. Creating nArray"
   ]
  },
  {
   "cell_type": "code",
   "execution_count": 81,
   "id": "10686b08-5112-4f6c-942d-5df330ffa20e",
   "metadata": {},
   "outputs": [],
   "source": [
    "ones = np.ones(5)"
   ]
  },
  {
   "cell_type": "code",
   "execution_count": 82,
   "id": "14057583-e8b7-4f3f-bff5-170ff9b673ff",
   "metadata": {},
   "outputs": [
    {
     "data": {
      "text/plain": [
       "array([1., 1., 1., 1., 1.])"
      ]
     },
     "execution_count": 82,
     "metadata": {},
     "output_type": "execute_result"
    }
   ],
   "source": [
    "ones"
   ]
  },
  {
   "cell_type": "code",
   "execution_count": 83,
   "id": "4d111324-96f7-43d6-ad8e-c1e075631253",
   "metadata": {},
   "outputs": [],
   "source": [
    "zeros = np.zeros(5)"
   ]
  },
  {
   "cell_type": "code",
   "execution_count": 84,
   "id": "89d2dcbb-de0d-4c61-a213-3c05b94c4f17",
   "metadata": {},
   "outputs": [
    {
     "data": {
      "text/plain": [
       "array([0., 0., 0., 0., 0.])"
      ]
     },
     "execution_count": 84,
     "metadata": {},
     "output_type": "execute_result"
    }
   ],
   "source": [
    "zeros"
   ]
  },
  {
   "cell_type": "code",
   "execution_count": 85,
   "id": "4f410b53-2f90-4cc0-8b55-32594fb96152",
   "metadata": {},
   "outputs": [],
   "source": [
    "rand1 = np.random.random((2, 3))"
   ]
  },
  {
   "cell_type": "code",
   "execution_count": 86,
   "id": "f31a6a6c-20a0-4c76-a279-448862f6f0ef",
   "metadata": {},
   "outputs": [
    {
     "data": {
      "text/plain": [
       "array([[0.179561  , 0.47103175, 0.31346928],\n",
       "       [0.13511561, 0.16709572, 0.90425886]])"
      ]
     },
     "execution_count": 86,
     "metadata": {},
     "output_type": "execute_result"
    }
   ],
   "source": [
    "rand1"
   ]
  },
  {
   "cell_type": "code",
   "execution_count": 87,
   "id": "1a4cca56-9e76-4cfc-ace2-4a2f48c2b4fa",
   "metadata": {},
   "outputs": [],
   "source": [
    "rand2 = np.random.random((4, 5))"
   ]
  },
  {
   "cell_type": "code",
   "execution_count": 88,
   "id": "feb59d59-c04d-4836-b026-f357d0801652",
   "metadata": {},
   "outputs": [
    {
     "data": {
      "text/plain": [
       "array([[0.18260391, 0.96815704, 0.76979385, 0.78604861, 0.91771124],\n",
       "       [0.55022757, 0.74692522, 0.88136918, 0.17254754, 0.03317764],\n",
       "       [0.10438354, 0.01688261, 0.49618474, 0.26588839, 0.59421677],\n",
       "       [0.61125702, 0.42541255, 0.83952571, 0.7166875 , 0.71933632]])"
      ]
     },
     "execution_count": 88,
     "metadata": {},
     "output_type": "execute_result"
    }
   ],
   "source": [
    "rand2"
   ]
  },
  {
   "cell_type": "markdown",
   "id": "cf4888db-a759-4ce2-862b-00883da693e6",
   "metadata": {},
   "source": [
    "## 2. Viewing Arrays "
   ]
  },
  {
   "cell_type": "code",
   "execution_count": 89,
   "id": "27b63580-101d-40ea-ae7a-b6ca560fc940",
   "metadata": {},
   "outputs": [],
   "source": [
    "unq = np.unique(rand2)"
   ]
  },
  {
   "cell_type": "code",
   "execution_count": 90,
   "id": "44ae0d68-e06f-4fe7-85cc-1c1c88a184c7",
   "metadata": {},
   "outputs": [
    {
     "data": {
      "text/plain": [
       "array([0.01688261, 0.03317764, 0.10438354, 0.17254754, 0.18260391,\n",
       "       0.26588839, 0.42541255, 0.49618474, 0.55022757, 0.59421677,\n",
       "       0.61125702, 0.7166875 , 0.71933632, 0.74692522, 0.76979385,\n",
       "       0.78604861, 0.83952571, 0.88136918, 0.91771124, 0.96815704])"
      ]
     },
     "execution_count": 90,
     "metadata": {},
     "output_type": "execute_result"
    }
   ],
   "source": [
    "unq"
   ]
  },
  {
   "cell_type": "code",
   "execution_count": 91,
   "id": "0204bd87-26cd-4b98-be25-3474cea8ac3d",
   "metadata": {},
   "outputs": [],
   "source": [
    "unq1 = np.unique(ones)"
   ]
  },
  {
   "cell_type": "code",
   "execution_count": 92,
   "id": "eff10420-8141-4d5c-85b8-4778e303703a",
   "metadata": {},
   "outputs": [
    {
     "data": {
      "text/plain": [
       "array([1.])"
      ]
     },
     "execution_count": 92,
     "metadata": {},
     "output_type": "execute_result"
    }
   ],
   "source": [
    "unq1"
   ]
  },
  {
   "cell_type": "code",
   "execution_count": 93,
   "id": "9e3d0555-8a2a-492e-bd3a-25120edcc9ab",
   "metadata": {},
   "outputs": [],
   "source": [
    "unq0 = np.unique(zeros)"
   ]
  },
  {
   "cell_type": "code",
   "execution_count": 94,
   "id": "bce46a14-1263-48bc-8c07-d75a71ba5b05",
   "metadata": {},
   "outputs": [
    {
     "data": {
      "text/plain": [
       "array([0.])"
      ]
     },
     "execution_count": 94,
     "metadata": {},
     "output_type": "execute_result"
    }
   ],
   "source": [
    "unq0"
   ]
  },
  {
   "cell_type": "code",
   "execution_count": 95,
   "id": "e42eda69-f63a-49d7-8a32-70d21a8f9086",
   "metadata": {},
   "outputs": [
    {
     "data": {
      "text/plain": [
       "(array([1., 1., 1., 1., 1.]), array([0., 0., 0., 0., 0.]))"
      ]
     },
     "execution_count": 95,
     "metadata": {},
     "output_type": "execute_result"
    }
   ],
   "source": [
    "ones, zeros "
   ]
  },
  {
   "cell_type": "markdown",
   "id": "cb3fec01-3adf-49a6-9b33-346d4044d9a3",
   "metadata": {},
   "source": [
    "## 3. Manipulating Arrays "
   ]
  },
  {
   "cell_type": "code",
   "execution_count": 96,
   "id": "ea8aa88c-ba98-4b08-a7ac-de616b3a2fcb",
   "metadata": {},
   "outputs": [
    {
     "data": {
      "text/plain": [
       "(array([1., 1., 1., 1., 1.]), array([0., 0., 0., 0., 0.]))"
      ]
     },
     "execution_count": 96,
     "metadata": {},
     "output_type": "execute_result"
    }
   ],
   "source": [
    "ones, zeros"
   ]
  },
  {
   "cell_type": "code",
   "execution_count": 97,
   "id": "23281bac-e460-4b38-8374-65d54ab80a93",
   "metadata": {},
   "outputs": [],
   "source": [
    "sum = ones + zeros "
   ]
  },
  {
   "cell_type": "code",
   "execution_count": 98,
   "id": "43a949eb-2219-422d-8e40-6b2bb521d1b4",
   "metadata": {},
   "outputs": [
    {
     "data": {
      "text/plain": [
       "array([1., 1., 1., 1., 1.])"
      ]
     },
     "execution_count": 98,
     "metadata": {},
     "output_type": "execute_result"
    }
   ],
   "source": [
    "sum "
   ]
  },
  {
   "cell_type": "code",
   "execution_count": 99,
   "id": "adb5e04e-751a-4c29-aba7-b9574a0b29b9",
   "metadata": {},
   "outputs": [],
   "source": [
    "sum2 = 5*ones + 2+zeros "
   ]
  },
  {
   "cell_type": "code",
   "execution_count": 100,
   "id": "cf6c8703-298d-4ac1-9191-fff5230d081f",
   "metadata": {},
   "outputs": [
    {
     "data": {
      "text/plain": [
       "array([7., 7., 7., 7., 7.])"
      ]
     },
     "execution_count": 100,
     "metadata": {},
     "output_type": "execute_result"
    }
   ],
   "source": [
    "sum2"
   ]
  },
  {
   "cell_type": "markdown",
   "id": "7fd449c5-6aea-48a5-93f5-59cdebde5239",
   "metadata": {},
   "source": [
    "## 4. Aggregation:\n",
    "\n",
    "performing same operations on a number of things "
   ]
  },
  {
   "cell_type": "code",
   "execution_count": 101,
   "id": "d756a6a6-e944-43d2-827b-8232a81e4ad8",
   "metadata": {},
   "outputs": [],
   "source": [
    "new_arr = [1, 2, 3, 4, 5]"
   ]
  },
  {
   "cell_type": "code",
   "execution_count": 102,
   "id": "f2753333-d096-4dd6-8794-6953021c3cc3",
   "metadata": {},
   "outputs": [
    {
     "data": {
      "text/plain": [
       "list"
      ]
     },
     "execution_count": 102,
     "metadata": {},
     "output_type": "execute_result"
    }
   ],
   "source": [
    "type(new_arr)"
   ]
  },
  {
   "cell_type": "code",
   "execution_count": 103,
   "id": "95a2db9e-e658-4c95-949e-d77e7af4a092",
   "metadata": {},
   "outputs": [],
   "source": [
    "# sum(new_arr)"
   ]
  },
  {
   "cell_type": "code",
   "execution_count": 104,
   "id": "ea4504ab-6fd9-41c4-9f44-b7f0761fca34",
   "metadata": {},
   "outputs": [
    {
     "data": {
      "text/plain": [
       "array([1, 2, 3])"
      ]
     },
     "execution_count": 104,
     "metadata": {},
     "output_type": "execute_result"
    }
   ],
   "source": [
    "a1 "
   ]
  },
  {
   "cell_type": "code",
   "execution_count": 105,
   "id": "a8f5319e-0a58-43ae-8e6b-817f6090fc6e",
   "metadata": {},
   "outputs": [
    {
     "data": {
      "text/plain": [
       "np.int64(6)"
      ]
     },
     "execution_count": 105,
     "metadata": {},
     "output_type": "execute_result"
    }
   ],
   "source": [
    "np.sum(a1)"
   ]
  },
  {
   "cell_type": "code",
   "execution_count": 106,
   "id": "4e134a2d-9666-44e0-bfb7-4d0e28822438",
   "metadata": {},
   "outputs": [
    {
     "data": {
      "text/plain": [
       "numpy.ndarray"
      ]
     },
     "execution_count": 106,
     "metadata": {},
     "output_type": "execute_result"
    }
   ],
   "source": [
    "type(a1)"
   ]
  },
  {
   "cell_type": "code",
   "execution_count": 107,
   "id": "5c4db0f7-8dd6-49df-aee8-bced17cab1df",
   "metadata": {},
   "outputs": [],
   "source": [
    "ths_arr = np.random.random(200)"
   ]
  },
  {
   "cell_type": "code",
   "execution_count": 137,
   "id": "2d3ae662-fa91-4ef9-a511-5d4e41e040c0",
   "metadata": {},
   "outputs": [],
   "source": [
    "# ths_arr | remove the comment to get the result "
   ]
  },
  {
   "cell_type": "code",
   "execution_count": 138,
   "id": "8d1b709b-2244-4f02-9b53-8b71224f6c22",
   "metadata": {
    "scrolled": true
   },
   "outputs": [],
   "source": [
    "# ths_arr[:50] | remove the comment to get the result "
   ]
  },
  {
   "cell_type": "markdown",
   "id": "734615dd-b5fb-4113-95b3-c9648d52336c",
   "metadata": {},
   "source": [
    "### using Magic functions "
   ]
  },
  {
   "cell_type": "code",
   "execution_count": 110,
   "id": "11afc53d-f2b9-492c-8c4f-89041d94c89c",
   "metadata": {},
   "outputs": [
    {
     "name": "stdout",
     "output_type": "stream",
     "text": [
      "1.18 μs ± 17.5 ns per loop (mean ± std. dev. of 7 runs, 1,000,000 loops each)\n"
     ]
    }
   ],
   "source": [
    "# %timeit sum(ths_arr)\n",
    "%timeit np.sum(ths_arr)"
   ]
  },
  {
   "cell_type": "code",
   "execution_count": 139,
   "id": "6bea2148-5ffc-4370-ac2c-f1f4f794edb6",
   "metadata": {},
   "outputs": [],
   "source": [
    "# %time np.multiply(ths_arr, 10) | remove the comment above; to get the result "
   ]
  },
  {
   "cell_type": "code",
   "execution_count": 112,
   "id": "f3d7370f-50af-4ea7-b60b-a41d9095f04a",
   "metadata": {},
   "outputs": [
    {
     "data": {
      "text/plain": [
       "np.float64(0.4923809570965078)"
      ]
     },
     "execution_count": 112,
     "metadata": {},
     "output_type": "execute_result"
    }
   ],
   "source": [
    "np.mean(ths_arr)"
   ]
  },
  {
   "cell_type": "code",
   "execution_count": 113,
   "id": "3b47ae40-275e-41b6-b3f6-b913dc472a49",
   "metadata": {},
   "outputs": [
    {
     "name": "stdout",
     "output_type": "stream",
     "text": [
      "1.77 μs ± 15.4 ns per loop (mean ± std. dev. of 7 runs, 1,000,000 loops each)\n"
     ]
    }
   ],
   "source": [
    "%timeit np.mean(ths_arr)"
   ]
  },
  {
   "cell_type": "code",
   "execution_count": 114,
   "id": "04b19a93-fb13-4e9d-859e-d6d20f29d08d",
   "metadata": {},
   "outputs": [
    {
     "data": {
      "text/plain": [
       "np.float64(0.9996819171787543)"
      ]
     },
     "execution_count": 114,
     "metadata": {},
     "output_type": "execute_result"
    }
   ],
   "source": [
    "np.max(ths_arr)"
   ]
  },
  {
   "cell_type": "code",
   "execution_count": 115,
   "id": "f9b48372-fdef-48f1-940f-642080606e07",
   "metadata": {},
   "outputs": [
    {
     "data": {
      "text/plain": [
       "np.float64(0.005698679119780947)"
      ]
     },
     "execution_count": 115,
     "metadata": {},
     "output_type": "execute_result"
    }
   ],
   "source": [
    "np.min(ths_arr)"
   ]
  },
  {
   "cell_type": "code",
   "execution_count": 116,
   "id": "40464724-b07b-4ff2-805e-ec43615f4461",
   "metadata": {},
   "outputs": [
    {
     "data": {
      "text/plain": [
       "np.float64(0.2718542530687012)"
      ]
     },
     "execution_count": 116,
     "metadata": {},
     "output_type": "execute_result"
    }
   ],
   "source": [
    "# Standard deviation: measure of how spread out a group of numbers is from the mean \n",
    "\n",
    "np.std(ths_arr)"
   ]
  },
  {
   "cell_type": "code",
   "execution_count": 117,
   "id": "2767bdcc-31c7-4d32-9710-93744fd2b0ba",
   "metadata": {},
   "outputs": [
    {
     "data": {
      "text/plain": [
       "np.float64(0.2718542530687012)"
      ]
     },
     "execution_count": 117,
     "metadata": {},
     "output_type": "execute_result"
    }
   ],
   "source": [
    "# Standard devaition = square root of variance \n",
    "\n",
    "np.sqrt(np.var(ths_arr))"
   ]
  },
  {
   "cell_type": "code",
   "execution_count": 118,
   "id": "5e14861c-9919-469a-82cc-43dc725b01d1",
   "metadata": {},
   "outputs": [
    {
     "data": {
      "text/plain": [
       "np.float64(0.07390473491154143)"
      ]
     },
     "execution_count": 118,
     "metadata": {},
     "output_type": "execute_result"
    }
   ],
   "source": [
    "# Variane: measure of the average degree to which each number is different to the mean \n",
    "#Higher variance: higher range of numbers | # Lower variance: lower range of numbers \n",
    "\n",
    "np.var(ths_arr)"
   ]
  },
  {
   "cell_type": "code",
   "execution_count": 119,
   "id": "d8e217b6-3881-4c7d-a2e3-3c96222f9d8d",
   "metadata": {},
   "outputs": [],
   "source": [
    "higher_var_array = np.array([2, 400, 3000, 50000])\n",
    "lower_var_array = np.array([2, 3, 4, 5])"
   ]
  },
  {
   "cell_type": "code",
   "execution_count": 120,
   "id": "d291496d-9a03-4131-a134-9c5570f34b12",
   "metadata": {},
   "outputs": [
    {
     "data": {
      "text/plain": [
       "(np.float64(449054150.75), np.float64(1.25))"
      ]
     },
     "execution_count": 120,
     "metadata": {},
     "output_type": "execute_result"
    }
   ],
   "source": [
    "np.var(higher_var_array), np.var(lower_var_array)"
   ]
  },
  {
   "cell_type": "code",
   "execution_count": 121,
   "id": "bc032cc0-50a9-4404-8a9a-fd26a4d4dae0",
   "metadata": {},
   "outputs": [
    {
     "data": {
      "text/plain": [
       "(np.float64(21190.897827841083), np.float64(1.118033988749895))"
      ]
     },
     "execution_count": 121,
     "metadata": {},
     "output_type": "execute_result"
    }
   ],
   "source": [
    "np.std(higher_var_array), np.std(lower_var_array)"
   ]
  },
  {
   "cell_type": "code",
   "execution_count": 122,
   "id": "9487dbe1-61f0-4f97-aee3-a304797bbe75",
   "metadata": {},
   "outputs": [
    {
     "data": {
      "text/plain": [
       "(np.float64(13350.5), np.float64(3.5))"
      ]
     },
     "execution_count": 122,
     "metadata": {},
     "output_type": "execute_result"
    }
   ],
   "source": [
    "np.mean(higher_var_array), np.mean(lower_var_array)"
   ]
  },
  {
   "cell_type": "code",
   "execution_count": 125,
   "id": "667fe9cf-19f2-4f53-8dde-45351e785de1",
   "metadata": {},
   "outputs": [],
   "source": [
    "%matplotlib inline \n",
    "import matplotlib.pyplot as plt "
   ]
  },
  {
   "cell_type": "code",
   "execution_count": 127,
   "id": "bbfd7b2b-42ca-4045-98b0-65d3cdaa3fd5",
   "metadata": {},
   "outputs": [
    {
     "data": {
      "text/plain": [
       "(array([3., 0., 0., 0., 0., 0., 0., 0., 0., 1.]),\n",
       " array([2.00000e+00, 5.00180e+03, 1.00016e+04, 1.50014e+04, 2.00012e+04,\n",
       "        2.50010e+04, 3.00008e+04, 3.50006e+04, 4.00004e+04, 4.50002e+04,\n",
       "        5.00000e+04]),\n",
       " <BarContainer object of 10 artists>)"
      ]
     },
     "execution_count": 127,
     "metadata": {},
     "output_type": "execute_result"
    },
    {
     "data": {
      "image/png": "[encoded data removed]",
      "text/plain": [
       "<Figure size 640x480 with 1 Axes>"
      ]
     },
     "metadata": {},
     "output_type": "display_data"
    }
   ],
   "source": [
    "plt.hist(higher_var_array)"
   ]
  },
  {
   "cell_type": "code",
   "execution_count": 128,
   "id": "a1323523-8e09-4b64-8014-91edc35a0d66",
   "metadata": {},
   "outputs": [
    {
     "data": {
      "text/plain": [
       "(array([1., 0., 0., 1., 0., 0., 1., 0., 0., 1.]),\n",
       " array([2. , 2.3, 2.6, 2.9, 3.2, 3.5, 3.8, 4.1, 4.4, 4.7, 5. ]),\n",
       " <BarContainer object of 10 artists>)"
      ]
     },
     "execution_count": 128,
     "metadata": {},
     "output_type": "execute_result"
    },
    {
     "data": {
      "image/png": "[encoded data removed]",
      "text/plain": [
       "<Figure size 640x480 with 1 Axes>"
      ]
     },
     "metadata": {},
     "output_type": "display_data"
    }
   ],
   "source": [
    "plt.hist(lower_var_array)"
   ]
  },
  {
   "cell_type": "code",
   "execution_count": 130,
   "id": "c52615b5-0e2e-4a9f-870b-f5ca710fbea8",
   "metadata": {},
   "outputs": [
    {
     "data": {
      "text/plain": [
       "<function matplotlib.pyplot.show(close=None, block=None)>"
      ]
     },
     "execution_count": 130,
     "metadata": {},
     "output_type": "execute_result"
    }
   ],
   "source": [
    "plt.show"
   ]
  },
  {
   "cell_type": "code",
   "execution_count": 131,
   "id": "5f80b147-26e5-480c-9583-24f76bb8580b",
   "metadata": {},
   "outputs": [
    {
     "data": {
      "text/plain": [
       "array([    2,   400,  3000, 50000])"
      ]
     },
     "execution_count": 131,
     "metadata": {},
     "output_type": "execute_result"
    }
   ],
   "source": [
    "higher_var_array"
   ]
  },
  {
   "cell_type": "code",
   "execution_count": 132,
   "id": "6367fadb-dfec-4b68-a8cd-a730602a47f3",
   "metadata": {},
   "outputs": [
    {
     "data": {
      "text/plain": [
       "array([2, 3, 4, 5])"
      ]
     },
     "execution_count": 132,
     "metadata": {},
     "output_type": "execute_result"
    }
   ],
   "source": [
    "lower_var_array"
   ]
  },
  {
   "cell_type": "markdown",
   "id": "6c0069d9-0ea4-4120-9c3d-6ce290232b14",
   "metadata": {},
   "source": [
    "### Reshaping and Transposing"
   ]
  },
  {
   "cell_type": "code",
   "execution_count": 140,
   "id": "4814f9f1-a088-488e-9b49-0cde63f7b166",
   "metadata": {},
   "outputs": [
    {
     "data": {
      "text/plain": [
       "(array([1, 2, 3]),\n",
       " array([[1, 2, 3],\n",
       "        [4, 5, 6]]),\n",
       " array([[[1, 2, 3],\n",
       "         [4, 5, 6],\n",
       "         [7, 8, 9]],\n",
       " \n",
       "        [[9, 8, 7],\n",
       "         [6, 5, 4],\n",
       "         [3, 2, 1]]]))"
      ]
     },
     "execution_count": 140,
     "metadata": {},
     "output_type": "execute_result"
    }
   ],
   "source": [
    "a1, a2, a3"
   ]
  },
  {
   "cell_type": "code",
   "execution_count": 141,
   "id": "ace07979-f5aa-4f59-9292-ffc495df383f",
   "metadata": {},
   "outputs": [
    {
     "data": {
      "text/plain": [
       "((3,), (2, 3), (2, 3, 3))"
      ]
     },
     "execution_count": 141,
     "metadata": {},
     "output_type": "execute_result"
    }
   ],
   "source": [
    "np.shape(a1), np.shape(a2), np.shape(a3)"
   ]
  },
  {
   "cell_type": "code",
   "execution_count": 143,
   "id": "1bc5f8cc-69c9-46b2-8da9-fdee8fc596c6",
   "metadata": {},
   "outputs": [],
   "source": [
    "# when the below lines of code are run, it throws an error because of the numpy broadcast. \n",
    "# To resolve the issue, we will have to reshape the array to match the shapes of the arrays or create a single dimensional array and mulitply\n",
    "\n",
    "# a2*a3"
   ]
  },
  {
   "cell_type": "code",
   "execution_count": 145,
   "id": "497c62ba-bb3a-407a-b822-27aad9834bfd",
   "metadata": {},
   "outputs": [
    {
     "data": {
      "text/plain": [
       "((2, 3), (2, 3, 3))"
      ]
     },
     "execution_count": 145,
     "metadata": {},
     "output_type": "execute_result"
    }
   ],
   "source": [
    "a2.shape, a3.shape"
   ]
  },
  {
   "cell_type": "code",
   "execution_count": 149,
   "id": "f7b51e20-1e0a-44db-aee7-a39b2a4968f9",
   "metadata": {},
   "outputs": [],
   "source": [
    "a2_reshape = a2.reshape(2, 3, 1)"
   ]
  },
  {
   "cell_type": "code",
   "execution_count": 150,
   "id": "b83d274e-eb61-40e1-a5fb-36b77fc99e74",
   "metadata": {},
   "outputs": [
    {
     "data": {
      "text/plain": [
       "((2, 3),\n",
       " array([[1, 2, 3],\n",
       "        [4, 5, 6]]),\n",
       " array([[[1, 2, 3],\n",
       "         [4, 5, 6],\n",
       "         [7, 8, 9]],\n",
       " \n",
       "        [[9, 8, 7],\n",
       "         [6, 5, 4],\n",
       "         [3, 2, 1]]]))"
      ]
     },
     "execution_count": 150,
     "metadata": {},
     "output_type": "execute_result"
    }
   ],
   "source": [
    "a2.shape, a2, a3"
   ]
  },
  {
   "cell_type": "code",
   "execution_count": 152,
   "id": "b21e93f0-1fc2-4bb5-8774-4fc864da4d51",
   "metadata": {},
   "outputs": [
    {
     "data": {
      "text/plain": [
       "array([[[ 1,  2,  3],\n",
       "        [ 8, 10, 12],\n",
       "        [21, 24, 27]],\n",
       "\n",
       "       [[36, 32, 28],\n",
       "        [30, 25, 20],\n",
       "        [18, 12,  6]]])"
      ]
     },
     "execution_count": 152,
     "metadata": {},
     "output_type": "execute_result"
    }
   ],
   "source": [
    "a2_reshape*a3\n",
    "# since we changed the shape of the array, now we are able to multiply these arrays "
   ]
  },
  {
   "cell_type": "code",
   "execution_count": 154,
   "id": "fef09a6c-303a-46b9-98f3-57ad872141fd",
   "metadata": {},
   "outputs": [
    {
     "data": {
      "text/plain": [
       "((2, 3),\n",
       " array([[1, 2, 3],\n",
       "        [4, 5, 6]]))"
      ]
     },
     "execution_count": 154,
     "metadata": {},
     "output_type": "execute_result"
    }
   ],
   "source": [
    "a2.shape, a2"
   ]
  },
  {
   "cell_type": "code",
   "execution_count": 161,
   "id": "a0d92338-e3bf-419f-9050-96052f6b7333",
   "metadata": {},
   "outputs": [],
   "source": [
    "# Transpose: switches the axis' of the array \n",
    "\n",
    "a2_transposed = a2.T"
   ]
  },
  {
   "cell_type": "code",
   "execution_count": 162,
   "id": "09856ba3-1bfb-4464-8b76-f207b4caa71d",
   "metadata": {},
   "outputs": [
    {
     "data": {
      "text/plain": [
       "((3, 2),\n",
       " array([[1, 4],\n",
       "        [2, 5],\n",
       "        [3, 6]]))"
      ]
     },
     "execution_count": 162,
     "metadata": {},
     "output_type": "execute_result"
    }
   ],
   "source": [
    "a2_transposed.shape, a2_transposed"
   ]
  },
  {
   "cell_type": "markdown",
   "id": "8dd0aafa-c493-4d07-918b-a6b930c6ff1b",
   "metadata": {},
   "source": [
    "## Dot product "
   ]
  },
  {
   "cell_type": "code",
   "execution_count": 164,
   "id": "0ab7ab4a-d3c4-4410-af3a-4bffd93d10de",
   "metadata": {},
   "outputs": [],
   "source": [
    "np.random.seed(0)\n",
    "\n",
    "mat1 = np.random.randint(10, size=(5, 3))\n",
    "mat2 = np.random.randint(10, size=(5, 3))"
   ]
  },
  {
   "cell_type": "code",
   "execution_count": 165,
   "id": "461e0b5c-0d4d-49cb-aaba-d315c35b49e7",
   "metadata": {},
   "outputs": [
    {
     "data": {
      "text/plain": [
       "(array([[5, 0, 3],\n",
       "        [3, 7, 9],\n",
       "        [3, 5, 2],\n",
       "        [4, 7, 6],\n",
       "        [8, 8, 1]]),\n",
       " array([[6, 7, 7],\n",
       "        [8, 1, 5],\n",
       "        [9, 8, 9],\n",
       "        [4, 3, 0],\n",
       "        [3, 5, 0]]))"
      ]
     },
     "execution_count": 165,
     "metadata": {},
     "output_type": "execute_result"
    }
   ],
   "source": [
    "mat1, mat2"
   ]
  },
  {
   "cell_type": "code",
   "execution_count": 169,
   "id": "ad6d8abd-1e0e-4976-ac34-92b92df6955b",
   "metadata": {},
   "outputs": [
    {
     "data": {
      "text/plain": [
       "array([[30,  0, 21],\n",
       "       [24,  7, 45],\n",
       "       [27, 40, 18],\n",
       "       [16, 21,  0],\n",
       "       [24, 40,  0]])"
      ]
     },
     "execution_count": 169,
     "metadata": {},
     "output_type": "execute_result"
    }
   ],
   "source": [
    "# Element-wise multiplication: Hadamard Product (this is one form of multiplication of arrays)\n",
    "mat1*mat2"
   ]
  },
  {
   "cell_type": "code",
   "execution_count": 173,
   "id": "12ef7895-ba2d-4dc8-bda5-d0b092fca9ec",
   "metadata": {},
   "outputs": [
    {
     "data": {
      "text/plain": [
       "array([[121, 114,  77],\n",
       "       [153, 108,  80],\n",
       "       [135,  69,  84]])"
      ]
     },
     "execution_count": 173,
     "metadata": {},
     "output_type": "execute_result"
    }
   ],
   "source": [
    "# Dot product: another form of multiplication between two arrays \n",
    "\n",
    "# np.dot(mat1, mat2) |won't work because of the conditions of the dot product, refer to the attached image; dot product vs elemt wise\n",
    "\n",
    "# We need to transpose one array for the dot product to work \n",
    "\n",
    "mat3 = np.dot(mat1.T, mat2)\n",
    "mat3"
   ]
  },
  {
   "cell_type": "code",
   "execution_count": null,
   "id": "e731dcea-d4e2-4b0e-bddf-9f3d24ddb4e8",
   "metadata": {},
   "outputs": [],
   "source": []
  }
 ],
 "metadata": {
  "kernelspec": {
   "display_name": "Python 3 (ipykernel)",
   "language": "python",
   "name": "python3"
  },
  "language_info": {
   "codemirror_mode": {
    "name": "ipython",
    "version": 3
   },
   "file_extension": ".py",
   "mimetype": "text/x-python",
   "name": "python",
   "nbconvert_exporter": "python",
   "pygments_lexer": "ipython3",
   "version": "3.13.1"
  }
 },
 "nbformat": 4,
 "nbformat_minor": 5
}
